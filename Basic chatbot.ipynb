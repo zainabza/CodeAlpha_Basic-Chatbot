{
 "cells": [
  {
   "cell_type": "code",
   "execution_count": 1,
   "id": "f756ab29-1147-4d07-a921-3b39a107369b",
   "metadata": {},
   "outputs": [
    {
     "name": "stdout",
     "output_type": "stream",
     "text": [
      "Hi! I'm DesiBot from Desi Handi. Type 'bye' to exit.\n"
     ]
    },
    {
     "name": "stdin",
     "output_type": "stream",
     "text": [
      "USER:  hi\n"
     ]
    },
    {
     "name": "stdout",
     "output_type": "stream",
     "text": [
      "BOT: Welcome to Desi Handi! How can I assist you today?\n"
     ]
    },
    {
     "name": "stdin",
     "output_type": "stream",
     "text": [
      "USER:  what is your name?\n"
     ]
    },
    {
     "name": "stdout",
     "output_type": "stream",
     "text": [
      "BOT: My name is DesiBot, your virtual assistant for Desi Handi.\n"
     ]
    },
    {
     "name": "stdin",
     "output_type": "stream",
     "text": [
      "USER:  location\n"
     ]
    },
    {
     "name": "stdout",
     "output_type": "stream",
     "text": [
      "BOT: Interesting. Let's talk more about it.\n"
     ]
    },
    {
     "name": "stdin",
     "output_type": "stream",
     "text": [
      "USER:  bye\n"
     ]
    },
    {
     "name": "stdout",
     "output_type": "stream",
     "text": [
      "BOT: Thank you for choosing Desi Handi! Have a wonderful day!\n"
     ]
    }
   ],
   "source": [
    "import nltk\n",
    "from nltk.chat.util import Chat, reflections\n",
    "\n",
    "pairs = [\n",
    "    [\n",
    "        r\"hi|hello|hey\",\n",
    "        [\"Welcome to Desi Handi! How can I assist you today?\", \"Hello! Welcome to Desi Handi. How can I make your day better?\"]\n",
    "    ],\n",
    "    [\n",
    "        r\"(.*) your name?\",\n",
    "        [\"My name is Robi, your virtual assistant for Desi Handi.\"]\n",
    "    ],\n",
    "    [\n",
    "        r\"who created you?\",\n",
    "        [\"I was created by the team at Desi Handi to help answer your questions and provide the best assistance.\"]\n",
    "    ],\n",
    "    [\n",
    "        r\"what do you like?\",\n",
    "        [\"I love helping people explore delicious Indian cuisine and answering their questions about Desi Handi!\"]\n",
    "    ],\n",
    "    [\n",
    "        r\"do you like food?\",\n",
    "        [\"I don’t eat, but I definitely enjoy helping you choose the tastiest dishes on our menu!\"]\n",
    "    ],\n",
    "    [\n",
    "        r\"are you human?\",\n",
    "        [\"Nope, I’m a chatbot designed to assist you. But I try my best to be helpful and friendly!\"]\n",
    "    ],\n",
    "    [\n",
    "        r\"who owns Desi Handi?\",\n",
    "        [\"Desi Handi is owned by a passionate team of chefs and food enthusiasts dedicated to serving authentic Indian cuisine.\"]\n",
    "    ],\n",
    "    [\n",
    "        r\"can you cook?\",\n",
    "        [\"I wish I could, but I leave the cooking to our amazing chefs at Desi Handi!\"]\n",
    "    ],\n",
    "    [\n",
    "        r\"what’s your favorite dish?\",\n",
    "        [\"I don’t eat, but I hear the Butter Chicken and Hyderabadi Dum Biryani are fan favorites!\"]\n",
    "    ],\n",
    "    [\n",
    "        r\"where are you located?\",\n",
    "        [\"We are located at 123 Spice Avenue, Downtown Food District, Cityville, US.\"]\n",
    "    ],\n",
    "    [\n",
    "        r\"can you tell me about Desi Handi?\",\n",
    "        [\"Desi Handi is your go-to spot for authentic Indian cuisine with a modern twist. We take pride in using the freshest ingredients and traditional techniques to deliver a truly unforgettable dining experience.\"]\n",
    "    ],\n",
    "    [\n",
    "        r\"what are your hours of operation?\",\n",
    "        [\"- Monday to Friday: 11:00 AM - 10:00 PM\", \"- Saturday: 12:00 PM - 11:00 PM\", \"- Sunday: 12:00 PM - 9:00 PM\"]\n",
    "    ],\n",
    "    [\n",
    "        r\"what’s on the menu?\",\n",
    "        [\n",
    "            \"Here are some of our popular dishes:\\n- Starters: Samosa, Paneer Tikka, Chicken Malai Kebab\\n- Main Courses: Butter Chicken, Paneer Butter Masala, Lamb Rogan Josh\\n- Biryani: Hyderabadi Dum Biryani, Vegetable Biryani\\n- Bread: Garlic Naan, Tandoori Roti\\n- Desserts: Gulab Jamun, Mango Kulfi\\n- Beverages: Lassi, Masala Chai, Mocktails\"\n",
    "        ]\n",
    "    ],\n",
    "    [\n",
    "        r\"do you take reservations?\",\n",
    "        [\"Yes, we do! Call us at xxxxxxxxxx to book a table.\"]\n",
    "    ],\n",
    "    [\n",
    "        r\"do you offer delivery or takeout?\",\n",
    "        [\"Absolutely! We provide both delivery and takeout services.\"]\n",
    "    ],\n",
    "    [\n",
    "        r\"do you have parking available?\",\n",
    "        [\"Yes, free parking is available for all our guests.\"]\n",
    "    ],\n",
    "    [\n",
    "        r\"can you accommodate dietary restrictions?\",\n",
    "        [\"Of course! Let us know your needs, and we’ll customize your meal accordingly.\"]\n",
    "    ],\n",
    "    [\n",
    "        r\"tell me a tricky question.\",\n",
    "        [\"Here’s one: What’s something I can’t do? (Answer: Eat food!)\"]\n",
    "    ],\n",
    "    [\n",
    "        r\"can you answer riddles?\",\n",
    "        [\"I’ll try my best! Ask me a riddle, and I’ll give it a shot.\"]\n",
    "    ],\n",
    "    [\n",
    "        r\"are you a robot?\",\n",
    "        [\"You could say that! I’m a chatbot designed to assist you with all things Desi Handi.\"]\n",
    "    ],\n",
    "    [\n",
    "        r\"what’s 2 \\+ 2?\",\n",
    "        [\"It’s 4! See, I’m great with numbers too.\"]\n",
    "    ],\n",
    "    [\n",
    "        r\"bye|exit|quit\",\n",
    "        [\"Thank you for choosing Desi Handi! Have a wonderful day!\"]\n",
    "    ],\n",
    "    [\n",
    "        r\"(.*)\",\n",
    "        [\"I see. Can you tell me more?\", \"Interesting. Let's talk more about it.\", \"I'm not sure I understand. Could you clarify?\"]\n",
    "    ]\n",
    "]\n",
    "\n",
    "chatbot = Chat(pairs, reflections)\n",
    "\n",
    "def start_chat():\n",
    "    print(\"Hi! I'm Robi from Desi Handi. Type 'bye' to exit.\")\n",
    "    while True:\n",
    "        user_input = input(\"USER: \")\n",
    "        if user_input.lower() in [\"bye\", \"exit\", \"quit\"]:\n",
    "            print(\"Robi: Thank you for choosing Desi Handi! Have a wonderful day!\")\n",
    "            break\n",
    "        response = chatbot.respond(user_input)\n",
    "        print(f\"BOT: {response}\")\n",
    "\n",
    "if __name__ == \"__main__\":\n",
    "    start_chat()\n"
   ]
  },
  {
   "cell_type": "code",
   "execution_count": null,
   "id": "b4c3689e-f54f-4d4b-89f4-a2a075a06b9e",
   "metadata": {},
   "outputs": [],
   "source": []
  },
  {
   "cell_type": "code",
   "execution_count": null,
   "id": "3d5b231f-c60e-4f77-b636-6a8ccd927333",
   "metadata": {},
   "outputs": [],
   "source": []
  }
 ],
 "metadata": {
  "kernelspec": {
   "display_name": "Python 3 (ipykernel)",
   "language": "python",
   "name": "python3"
  },
  "language_info": {
   "codemirror_mode": {
    "name": "ipython",
    "version": 3
   },
   "file_extension": ".py",
   "mimetype": "text/x-python",
   "name": "python",
   "nbconvert_exporter": "python",
   "pygments_lexer": "ipython3",
   "version": "3.12.3"
  }
 },
 "nbformat": 4,
 "nbformat_minor": 5
}
